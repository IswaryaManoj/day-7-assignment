{
 "cells": [
  {
   "cell_type": "code",
   "execution_count": 2,
   "metadata": {},
   "outputs": [
    {
     "name": "stdout",
     "output_type": "stream",
     "text": [
      "displaying:  {21: 'FTP', 22: 'SSH', 23: 'telnet', 80: 'http'}\n",
      "output:  {'FTP': 21, 'SSH': 22, 'telnet': 23, 'http': 80}\n"
     ]
    }
   ],
   "source": [
    "port1={21:\"FTP\",22:\"SSH\",23:\"telnet\",80:\"http\"}\n",
    "print(\"displaying: \", str(port1)) \n",
    "port1=dict(zip(port1.values(),port1.keys())) \n",
    "print(\"output: \", str(port1)) "
   ]
  },
  {
   "cell_type": "code",
   "execution_count": 4,
   "metadata": {},
   "outputs": [
    {
     "name": "stdout",
     "output_type": "stream",
     "text": [
      "[3, 7, 11, 9]\n"
     ]
    }
   ],
   "source": [
    "tup=[(1,2),(3,4),(5,6),(4,5)]\n",
    "res = [sum(x) for x in tup]\n",
    "print(res)"
   ]
  },
  {
   "cell_type": "code",
   "execution_count": 12,
   "metadata": {},
   "outputs": [
    {
     "name": "stdout",
     "output_type": "stream",
     "text": [
      "The original list:  [(1, 2, 3), [1, 2], ['a', 'hit', 'less']]\n",
      "The list after removing nesting:  [(1, 2, 3), 1, 2, 'a', 'hit', 'less']\n"
     ]
    }
   ],
   "source": [
    "l=[(1,2,3),[1,2],['a','hit','less']]\n",
    "output=[]\n",
    "def removNestings(l): \n",
    "    for i in l: \n",
    "        if type(i) == list: \n",
    "            removNestings(i) \n",
    "        else: \n",
    "            output.append(i) \n",
    "print ('The original list: ', l) \n",
    "removNestings(l) \n",
    "print ('The list after removing nesting: ', output) "
   ]
  },
  {
   "cell_type": "code",
   "execution_count": null,
   "metadata": {},
   "outputs": [],
   "source": []
  }
 ],
 "metadata": {
  "kernelspec": {
   "display_name": "Python 3",
   "language": "python",
   "name": "python3"
  },
  "language_info": {
   "codemirror_mode": {
    "name": "ipython",
    "version": 3
   },
   "file_extension": ".py",
   "mimetype": "text/x-python",
   "name": "python",
   "nbconvert_exporter": "python",
   "pygments_lexer": "ipython3",
   "version": "3.7.6"
  }
 },
 "nbformat": 4,
 "nbformat_minor": 4
}
